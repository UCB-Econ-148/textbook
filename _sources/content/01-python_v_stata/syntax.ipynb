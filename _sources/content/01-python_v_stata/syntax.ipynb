{
 "cells": [
  {
   "cell_type": "code",
   "execution_count": 1,
   "id": "3dfa8749-c9af-4218-8367-96918f529dc8",
   "metadata": {},
   "outputs": [],
   "source": [
    "import pandas as pd"
   ]
  },
  {
   "cell_type": "markdown",
   "id": "474395b2-eedd-4588-aabf-10cf6a314ad2",
   "metadata": {},
   "source": [
    "# Syntax\n",
    "\n",
    "The online textbook [Coding for Economists](https://aeturrell.github.io/coding-for-economists/intro.html) has a great [section summarizing the differences in syntax](https://aeturrell.github.io/coding-for-economists/coming-from-stata.html) between Stata and Python. This chapter does not aim to replace the key material included there. Instead, I hope it can serve as a supplement for those transitioning from Stata to Python.\n",
    "\n",
    "This chapter will aim to describe [`stata2python`](https://pypi.org/project/stata2python/), a Python package where you can write Stata commands and recieve the equivalent code for them in Python."
   ]
  },
  {
   "cell_type": "markdown",
   "id": "f31b176c-1936-43d8-9a56-ebbf2884e7ca",
   "metadata": {},
   "source": [
    "## stata2python"
   ]
  },
  {
   "cell_type": "markdown",
   "id": "74a5f7c3-ac2d-4560-9d7e-323870c8efeb",
   "metadata": {},
   "source": [
    "### Installation and Import\n",
    "\n",
    "To install `stata2python`, you can simply use the package installer [`pip`](https://pypi.org/project/pip/). An example is shown below. To do so, simply run the following command in your terminal.\n",
    "\n",
    "    pip install --upgrade stata2python\n",
    "    \n",
    "After you have installed the package, you can simply import it into your Jupyter notebook. Alternatively, you can also access a [Python shell](https://www.tutorialsteacher.com/python/python-interective-shell) ( by typing `python3` in your terminal) and begin using it. To import the package in your notebook/shell, the following syntax is encouraged.\n",
    "\n",
    "    from stata2python import stata2python\n",
    "   \n",
    "We import the package below."
   ]
  },
  {
   "cell_type": "code",
   "execution_count": 2,
   "id": "9845b073-c30b-41d9-95bd-53ba694474d6",
   "metadata": {},
   "outputs": [],
   "source": [
    "from stata2python import stata2python"
   ]
  },
  {
   "cell_type": "markdown",
   "id": "653ded29-8942-4b92-bb9c-996aca1f077c",
   "metadata": {},
   "source": [
    "We also import a sample NBA dataset that will be helpful for demonstrating the features of our package."
   ]
  },
  {
   "cell_type": "code",
   "execution_count": 3,
   "id": "2929442c-5eb6-4c4c-aab1-3c029ea70a4b",
   "metadata": {},
   "outputs": [
    {
     "data": {
      "text/html": [
       "<div>\n",
       "<style scoped>\n",
       "    .dataframe tbody tr th:only-of-type {\n",
       "        vertical-align: middle;\n",
       "    }\n",
       "\n",
       "    .dataframe tbody tr th {\n",
       "        vertical-align: top;\n",
       "    }\n",
       "\n",
       "    .dataframe thead th {\n",
       "        text-align: right;\n",
       "    }\n",
       "</style>\n",
       "<table border=\"1\" class=\"dataframe\">\n",
       "  <thead>\n",
       "    <tr style=\"text-align: right;\">\n",
       "      <th></th>\n",
       "      <th>married</th>\n",
       "      <th>wage</th>\n",
       "      <th>exper</th>\n",
       "      <th>age</th>\n",
       "      <th>coll</th>\n",
       "      <th>games</th>\n",
       "      <th>minutes</th>\n",
       "      <th>guard</th>\n",
       "      <th>forward</th>\n",
       "      <th>center</th>\n",
       "      <th>points</th>\n",
       "      <th>rebounds</th>\n",
       "      <th>assists</th>\n",
       "      <th>draft</th>\n",
       "      <th>allstar</th>\n",
       "      <th>avgmin</th>\n",
       "      <th>black</th>\n",
       "      <th>children</th>\n",
       "    </tr>\n",
       "  </thead>\n",
       "  <tbody>\n",
       "    <tr>\n",
       "      <th>0</th>\n",
       "      <td>1</td>\n",
       "      <td>1002.5</td>\n",
       "      <td>4</td>\n",
       "      <td>27</td>\n",
       "      <td>4</td>\n",
       "      <td>77</td>\n",
       "      <td>2867</td>\n",
       "      <td>1</td>\n",
       "      <td>0</td>\n",
       "      <td>0</td>\n",
       "      <td>16</td>\n",
       "      <td>4</td>\n",
       "      <td>5</td>\n",
       "      <td>19.0</td>\n",
       "      <td>0</td>\n",
       "      <td>37.23</td>\n",
       "      <td>1</td>\n",
       "      <td>0</td>\n",
       "    </tr>\n",
       "    <tr>\n",
       "      <th>1</th>\n",
       "      <td>1</td>\n",
       "      <td>2030.0</td>\n",
       "      <td>5</td>\n",
       "      <td>28</td>\n",
       "      <td>4</td>\n",
       "      <td>78</td>\n",
       "      <td>2789</td>\n",
       "      <td>1</td>\n",
       "      <td>0</td>\n",
       "      <td>0</td>\n",
       "      <td>13</td>\n",
       "      <td>3</td>\n",
       "      <td>9</td>\n",
       "      <td>28.0</td>\n",
       "      <td>0</td>\n",
       "      <td>35.76</td>\n",
       "      <td>1</td>\n",
       "      <td>1</td>\n",
       "    </tr>\n",
       "    <tr>\n",
       "      <th>2</th>\n",
       "      <td>0</td>\n",
       "      <td>650.0</td>\n",
       "      <td>1</td>\n",
       "      <td>25</td>\n",
       "      <td>4</td>\n",
       "      <td>74</td>\n",
       "      <td>1149</td>\n",
       "      <td>0</td>\n",
       "      <td>0</td>\n",
       "      <td>1</td>\n",
       "      <td>6</td>\n",
       "      <td>3</td>\n",
       "      <td>0</td>\n",
       "      <td>19.0</td>\n",
       "      <td>0</td>\n",
       "      <td>15.53</td>\n",
       "      <td>1</td>\n",
       "      <td>0</td>\n",
       "    </tr>\n",
       "    <tr>\n",
       "      <th>3</th>\n",
       "      <td>0</td>\n",
       "      <td>2030.0</td>\n",
       "      <td>5</td>\n",
       "      <td>28</td>\n",
       "      <td>4</td>\n",
       "      <td>47</td>\n",
       "      <td>1178</td>\n",
       "      <td>0</td>\n",
       "      <td>1</td>\n",
       "      <td>0</td>\n",
       "      <td>7</td>\n",
       "      <td>5</td>\n",
       "      <td>2</td>\n",
       "      <td>1.0</td>\n",
       "      <td>0</td>\n",
       "      <td>25.06</td>\n",
       "      <td>1</td>\n",
       "      <td>0</td>\n",
       "    </tr>\n",
       "    <tr>\n",
       "      <th>4</th>\n",
       "      <td>0</td>\n",
       "      <td>755.0</td>\n",
       "      <td>3</td>\n",
       "      <td>24</td>\n",
       "      <td>4</td>\n",
       "      <td>82</td>\n",
       "      <td>2096</td>\n",
       "      <td>1</td>\n",
       "      <td>0</td>\n",
       "      <td>0</td>\n",
       "      <td>11</td>\n",
       "      <td>4</td>\n",
       "      <td>3</td>\n",
       "      <td>24.0</td>\n",
       "      <td>0</td>\n",
       "      <td>25.56</td>\n",
       "      <td>1</td>\n",
       "      <td>0</td>\n",
       "    </tr>\n",
       "  </tbody>\n",
       "</table>\n",
       "</div>"
      ],
      "text/plain": [
       "   married    wage  exper  age  coll  games  minutes  guard  forward  center  \\\n",
       "0        1  1002.5      4   27     4     77     2867      1        0       0   \n",
       "1        1  2030.0      5   28     4     78     2789      1        0       0   \n",
       "2        0   650.0      1   25     4     74     1149      0        0       1   \n",
       "3        0  2030.0      5   28     4     47     1178      0        1       0   \n",
       "4        0   755.0      3   24     4     82     2096      1        0       0   \n",
       "\n",
       "   points  rebounds  assists  draft  allstar  avgmin  black  children  \n",
       "0      16         4        5   19.0        0   37.23      1         0  \n",
       "1      13         3        9   28.0        0   35.76      1         1  \n",
       "2       6         3        0   19.0        0   15.53      1         0  \n",
       "3       7         5        2    1.0        0   25.06      1         0  \n",
       "4      11         4        3   24.0        0   25.56      1         0  "
      ]
     },
     "execution_count": 3,
     "metadata": {},
     "output_type": "execute_result"
    }
   ],
   "source": [
    "nba = pd.read_csv(\"data/nba.csv\")\n",
    "nba.head()"
   ]
  },
  {
   "cell_type": "markdown",
   "id": "f3edebbb-363c-489d-b560-09620fe27466",
   "metadata": {},
   "source": [
    "### Usage\n",
    "\n",
    "Currently, `stata2python` only supports commands necessary to teach an introductory course in econometrics. If you would like to contribute, feel free to create pull requests [here](https://github.com/rohanjha123/data-h195/tree/main/creating_package). Below, we discuss the commands currently supported by the package.\n",
    "\n",
    "By importing `stata2python` via `from stata2python import stata2python`, you can access a function named `stata2python`. You can enter in any Stata command as a string to this function. If the command is supported by `stata2python`, the function will output Python code equivalent to the Stata command.  \n",
    "\n",
    "Optionally, you may also specify the name of the DataFrame you're working with via the `df_name` parameter in `stata2python`. The default value for `df_name` is simply `df`. \n",
    "\n",
    "Below, we discuss all the features currently supported by `Stata2Python`, along with providing example usages."
   ]
  },
  {
   "cell_type": "markdown",
   "id": "d9ace3e5-b5e7-473e-8bdb-cf6559c2fcc1",
   "metadata": {},
   "source": [
    "#### T-test\n",
    "\n",
    "This function helps users determine the code for running [t-tests](https://www.jmp.com/en_us/statistics-knowledge-portal/t-test.html) in Python. Examples include:"
   ]
  },
  {
   "cell_type": "code",
   "execution_count": 4,
   "id": "b48ee104-aa0a-4461-a1bc-9f40c6c90996",
   "metadata": {},
   "outputs": [
    {
     "name": "stdout",
     "output_type": "stream",
     "text": [
      "import numpy as np\n",
      "from scipy import stats\n",
      "catvar_vals = np.unique(df['guard'])\n",
      "if len(catvar_vals) != 2:\n",
      "    raise ValueError(f'The categorical variable (guard) doesn\\'t have 2 groups')\n",
      "df_1 = df[df['guard'] == catvar_vals[0]]\n",
      "df_2 = df[df['guard'] == catvar_vals[1]]\n",
      "ttest = stats.ttest_ind(df_1['wage'], df_2['wage'], equal_var=True, nan_policy='propagate')\n",
      "t_stat = ttest.statistic\n",
      "p_val = ttest.pvalue\n",
      "print(f'T-stat: {t_stat}, P-value: {p_val}')\n"
     ]
    }
   ],
   "source": [
    "stata2python(\"ttest wage, by(guard)\")"
   ]
  },
  {
   "cell_type": "code",
   "execution_count": 5,
   "id": "87876a2e-0b2c-40d5-a64a-c8ec25941aa1",
   "metadata": {},
   "outputs": [
    {
     "name": "stdout",
     "output_type": "stream",
     "text": [
      "import numpy as np\n",
      "from scipy import stats\n",
      "catvar_vals = np.unique(nba['guard'])\n",
      "if len(catvar_vals) != 2:\n",
      "    raise ValueError(f'The categorical variable (guard) doesn\\'t have 2 groups')\n",
      "df_1 = nba[nba['guard'] == catvar_vals[0]]\n",
      "df_2 = nba[nba['guard'] == catvar_vals[1]]\n",
      "ttest = stats.ttest_ind(df_1['wage'], df_2['wage'], equal_var=False, nan_policy='propagate')\n",
      "t_stat = ttest.statistic\n",
      "p_val = ttest.pvalue\n",
      "print(f'T-stat: {t_stat}, P-value: {p_val}')\n"
     ]
    }
   ],
   "source": [
    "stata2python(\"ttest wage, by(guard) unequal\", \"nba\")"
   ]
  },
  {
   "cell_type": "markdown",
   "id": "89b477e9-82df-43d2-bc97-dc466c1bcb92",
   "metadata": {},
   "source": [
    "Assuming you have all the correct packages installed, you can directly copy paste this code to see the output. For example, "
   ]
  },
  {
   "cell_type": "code",
   "execution_count": 8,
   "id": "a485ec9f-25f6-4c24-9ee8-380b751ef6a1",
   "metadata": {},
   "outputs": [
    {
     "name": "stdout",
     "output_type": "stream",
     "text": [
      "T-stat: 2.1432820571177977, P-value: 0.03299634994484977\n"
     ]
    }
   ],
   "source": [
    "import numpy as np\n",
    "from scipy import stats\n",
    "catvar_vals = np.unique(nba['guard'])\n",
    "if len(catvar_vals) != 2:\n",
    "    raise ValueError(f'The categorical variable (guard) doesn\\'t have 2 groups')\n",
    "df_1 = nba[nba['guard'] == catvar_vals[0]]\n",
    "df_2 = nba[nba['guard'] == catvar_vals[1]]\n",
    "ttest = stats.ttest_ind(df_1['wage'], df_2['wage'], equal_var=False, nan_policy='propagate')\n",
    "t_stat = ttest.statistic\n",
    "p_val = ttest.pvalue\n",
    "print(f'T-stat: {t_stat}, P-value: {p_val}')"
   ]
  },
  {
   "cell_type": "markdown",
   "id": "bcac0225-7131-4a7d-9997-47958c10c172",
   "metadata": {},
   "source": [
    "### Gen\n",
    "\n",
    "Used for generating new columns. For example,"
   ]
  },
  {
   "cell_type": "code",
   "execution_count": 9,
   "id": "b0fd3d6a-0a9e-459c-896c-d7a53e12cba4",
   "metadata": {},
   "outputs": [
    {
     "name": "stdout",
     "output_type": "stream",
     "text": [
      "df['degree'] = df['coll'] >= 4\n"
     ]
    }
   ],
   "source": [
    "stata2python(\"gen degree = (coll >= 4)\")"
   ]
  },
  {
   "cell_type": "code",
   "execution_count": 10,
   "id": "9ba0e4f5-d33e-48ed-a5ad-f3afb0a65abc",
   "metadata": {},
   "outputs": [
    {
     "name": "stdout",
     "output_type": "stream",
     "text": [
      "nba['productivity'] = nba['points']/(nba['minutes']/nba['games'])\n"
     ]
    }
   ],
   "source": [
    "stata2python(\"gen productivity = points/(minutes/games)\",\"nba\")"
   ]
  },
  {
   "cell_type": "code",
   "execution_count": null,
   "id": "b8fd2dcf-621b-40dc-95bf-f1deacf15a09",
   "metadata": {},
   "outputs": [],
   "source": []
  }
 ],
 "metadata": {
  "kernelspec": {
   "display_name": "Python [conda env:sklearn-env]",
   "language": "python",
   "name": "conda-env-sklearn-env-py"
  },
  "language_info": {
   "codemirror_mode": {
    "name": "ipython",
    "version": 3
   },
   "file_extension": ".py",
   "mimetype": "text/x-python",
   "name": "python",
   "nbconvert_exporter": "python",
   "pygments_lexer": "ipython3",
   "version": "3.11.0"
  }
 },
 "nbformat": 4,
 "nbformat_minor": 5
}
